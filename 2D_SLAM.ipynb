{
  "nbformat": 4,
  "nbformat_minor": 0,
  "metadata": {
    "colab": {
      "name": "2D_SLAM",
      "provenance": [],
      "collapsed_sections": [],
      "authorship_tag": "ABX9TyP05FxQlChI8XFHDhQN361O",
      "include_colab_link": true
    },
    "kernelspec": {
      "name": "python3",
      "display_name": "Python 3"
    },
    "language_info": {
      "name": "python"
    }
  },
  "cells": [
    {
      "cell_type": "markdown",
      "metadata": {
        "id": "view-in-github",
        "colab_type": "text"
      },
      "source": [
        "<a href=\"https://colab.research.google.com/github/Aniket23160/SelfDriving_BITSPilani/blob/main/2D_SLAM.ipynb\" target=\"_parent\"><img src=\"https://colab.research.google.com/assets/colab-badge.svg\" alt=\"Open In Colab\"/></a>"
      ]
    },
    {
      "cell_type": "code",
      "metadata": {
        "id": "lafUPCpD4BSS"
      },
      "source": [
        "import numpy as np\n",
        "import matplotlib.pyplot as plt\n",
        "import random\n",
        "%matplotlib inline\n"
      ],
      "execution_count": 1,
      "outputs": []
    },
    {
      "cell_type": "code",
      "metadata": {
        "id": "bhz8iuxN4MEG"
      },
      "source": [
        "# the robot class\n",
        "class robot:\n",
        "\n",
        "    # --------\n",
        "    # init: \n",
        "    #   creates a robot with the specified parameters and initializes \n",
        "    #   the location (self.x, self.y) to the center of the world\n",
        "    #\n",
        "    def __init__(self, world_size = 100.0, measurement_range = 30.0,\n",
        "                 motion_noise = 1.0, measurement_noise = 1.0):\n",
        "        self.measurement_noise = 0.0\n",
        "        self.world_size = world_size\n",
        "        self.measurement_range = measurement_range\n",
        "        self.x = world_size / 2.0\n",
        "        self.y = world_size / 2.0\n",
        "        self.motion_noise = motion_noise\n",
        "        self.measurement_noise = measurement_noise\n",
        "        self.landmarks = []\n",
        "        self.num_landmarks = 0\n",
        "\n",
        "\n",
        "    # returns a positive, random float\n",
        "    def rand(self):\n",
        "        return random.random() * 2.0 - 1.0\n",
        "\n",
        "\n",
        "    # --------\n",
        "    # move: attempts to move robot by dx, dy. If outside world\n",
        "    #       boundary, then the move does nothing and instead returns failure\n",
        "    #\n",
        "    def move(self, dx, dy):\n",
        "\n",
        "        x = self.x + dx + self.rand() * self.motion_noise\n",
        "        y = self.y + dy + self.rand() * self.motion_noise\n",
        "\n",
        "        if x < 0.0 or x > self.world_size or y < 0.0 or y > self.world_size:\n",
        "            return False\n",
        "        else:\n",
        "            self.x = x\n",
        "            self.y = y\n",
        "            return True\n",
        "    \n",
        "\n",
        "    # --------\n",
        "    # sense: returns x- and y- distances to landmarks within visibility range\n",
        "    #        because not all landmarks may be in this range, the list of measurements\n",
        "    #        is of variable length. Set measurement_range to -1 if you want all\n",
        "    #        landmarks to be visible at all times\n",
        "    #\n",
        "    \n",
        "    ## TODO: complete the sense function\n",
        "    def sense(self):\n",
        "        ''' This function does not take in any parameters, instead it references internal variables\n",
        "            (such as self.landamrks) to measure the distance between the robot and any landmarks\n",
        "            that the robot can see (that are within its measurement range).\n",
        "            This function returns a list of landmark indices, and the measured distances (dx, dy)\n",
        "            between the robot's position and said landmarks.\n",
        "            This function should account for measurement_noise and measurement_range.\n",
        "            One item in the returned list should be in the form: [landmark_index, dx, dy].\n",
        "            '''\n",
        "           \n",
        "        measurements = []\n",
        "        \n",
        "        ## TODO: iterate through all of the landmarks in a world\n",
        "        \n",
        "        ## TODO: For each landmark\n",
        "        ## 1. compute dx and dy, the distances between the robot and the landmark\n",
        "        ## 2. account for measurement noise by *adding* a noise component to dx and dy\n",
        "        ##    - The noise component should be a random value between [-1.0, 1.0)*measurement_noise\n",
        "        ##    - Feel free to use the function self.rand() to help calculate this noise component\n",
        "        ##    - It may help to reference the `move` function for noise calculation\n",
        "        ## 3. If either of the distances, dx or dy, fall outside of the internal var, measurement_range\n",
        "        ##    then we cannot record them; if they do fall in the range, then add them to the measurements list\n",
        "        ##    as list.append([index, dx, dy]), this format is important for data creation done later\n",
        "        \n",
        "        ## TODO: return the final, complete list of measurements\n",
        "        for landmark_index, landmark in enumerate(self.landmarks):\n",
        "            landmark_distance_x = landmark[0]\n",
        "            landmark_distance_y = landmark[1]\n",
        "            random_noise = self.rand()\n",
        "            cal_dx = self.x - landmark_distance_x + random_noise * self.measurement_noise\n",
        "            cal_dy = self.y - landmark_distance_y + random_noise * self.measurement_noise\n",
        "            is_not_in_measurement_range = self.measurement_range == -1\n",
        "            if(is_not_in_measurement_range) or ((abs(cal_dx) <= self.measurement_range) and (abs(cal_dy) <= self.measurement_range)):\n",
        "                measurements.append([landmark_index, cal_dx, cal_dy])\n",
        "        return measurements\n",
        "\n",
        "    \n",
        "    # --------\n",
        "    # make_landmarks: \n",
        "    # make random landmarks located in the world\n",
        "    #\n",
        "    def make_landmarks(self, num_landmarks):\n",
        "        self.landmarks = []\n",
        "        for i in range(num_landmarks):\n",
        "            self.landmarks.append([round(random.random() * self.world_size),\n",
        "                                   round(random.random() * self.world_size)])\n",
        "        self.num_landmarks = num_landmarks\n",
        "    \n",
        "    \n",
        "    # called when print(robot) is called; prints the robot's location\n",
        "    def __repr__(self):\n",
        "        return 'Robot: [x=%.5f y=%.5f]'  % (self.x, self.y)\n"
      ],
      "execution_count": 2,
      "outputs": []
    },
    {
      "cell_type": "code",
      "metadata": {
        "colab": {
          "base_uri": "https://localhost:8080/"
        },
        "id": "uzisGiMr4ZPi",
        "outputId": "43527554-0348-4859-8481-418ce3474d81"
      },
      "source": [
        "world_size         = 10.0    # size of world (square)\n",
        "measurement_range  = 5.0     # range at which we can sense landmarks\n",
        "motion_noise       = 0.2      # noise in robot motion\n",
        "measurement_noise  = 0.2      # noise in the measurements\n",
        "\n",
        "# instantiate a robot, r\n",
        "r = robot(world_size, measurement_range, motion_noise, measurement_noise)\n",
        "\n",
        "# print out the location of r\n",
        "print(r)\n"
      ],
      "execution_count": 3,
      "outputs": [
        {
          "output_type": "stream",
          "text": [
            "Robot: [x=5.00000 y=5.00000]\n"
          ],
          "name": "stdout"
        }
      ]
    },
    {
      "cell_type": "code",
      "metadata": {
        "id": "mXMrvaDG4d5c"
      },
      "source": [
        "# from robot_class import robot\n",
        "from math import *\n",
        "import random\n",
        "import numpy as np\n",
        "import matplotlib.pyplot as plt\n",
        "import seaborn as sns\n",
        "\n",
        "\n",
        "# --------\n",
        "# this helper function displays the world that a robot is in\n",
        "# it assumes the world is a square grid of some given size\n",
        "# and that landmarks is a list of landmark positions(an optional argument)\n",
        "def display_world(world_size, position, landmarks=None):\n",
        "    \n",
        "    # using seaborn, set background grid to gray\n",
        "    sns.set_style(\"dark\")\n",
        "\n",
        "    # Plot grid of values\n",
        "    world_grid = np.zeros((world_size+1, world_size+1))\n",
        "\n",
        "    # Set minor axes in between the labels\n",
        "    ax=plt.gca()\n",
        "    cols = world_size+1\n",
        "    rows = world_size+1\n",
        "\n",
        "    ax.set_xticks([x for x in range(1,cols)],minor=True )\n",
        "    ax.set_yticks([y for y in range(1,rows)],minor=True)\n",
        "    \n",
        "    # Plot grid on minor axes in gray (width = 1)\n",
        "    plt.grid(which='minor',ls='-',lw=1, color='white')\n",
        "    \n",
        "    # Plot grid on major axes in larger width\n",
        "    plt.grid(which='major',ls='-',lw=2, color='white')\n",
        "    \n",
        "    # Create an 'o' character that represents the robot\n",
        "    # ha = horizontal alignment, va = vertical\n",
        "    ax.text(position[0], position[1], 'o', ha='center', va='center', color='r', fontsize=30)\n",
        "    \n",
        "    # Draw landmarks if they exists\n",
        "    if(landmarks is not None):\n",
        "        # loop through all path indices and draw a dot (unless it's at the car's location)\n",
        "        for pos in landmarks:\n",
        "            if(pos != position):\n",
        "                ax.text(pos[0], pos[1], 'x', ha='center', va='center', color='purple', fontsize=20)\n",
        "    \n",
        "    # Display final result\n",
        "    plt.show()\n",
        "\n",
        "    \n",
        "# --------\n",
        "# this routine makes the robot data\n",
        "# the data is a list of measurements and movements: [measurements, [dx, dy]]\n",
        "# collected over a specified number of time steps, N\n",
        "#\n",
        "def make_data(N, num_landmarks, world_size, measurement_range, motion_noise, \n",
        "              measurement_noise, distance):\n",
        "\n",
        "    # check that data has been made\n",
        "    try:\n",
        "        check_for_data(num_landmarks, world_size, measurement_range, motion_noise, measurement_noise)\n",
        "    except ValueError:\n",
        "        print('Error: You must implement the sense function in robot_class.py.')\n",
        "        return []\n",
        "    \n",
        "    complete = False\n",
        "    \n",
        "    r = robot(world_size, measurement_range, motion_noise, measurement_noise)\n",
        "    r.make_landmarks(num_landmarks)\n",
        "\n",
        "    while not complete:\n",
        "\n",
        "        data = []\n",
        "\n",
        "        seen = [False for row in range(num_landmarks)]\n",
        "    \n",
        "        # guess an initial motion\n",
        "        orientation = random.random() * 2.0 * pi\n",
        "        dx = cos(orientation) * distance\n",
        "        dy = sin(orientation) * distance\n",
        "            \n",
        "        for k in range(N-1):\n",
        "    \n",
        "            # collect sensor measurements in a list, Z\n",
        "            Z = r.sense()\n",
        "\n",
        "            # check off all landmarks that were observed \n",
        "            for i in range(len(Z)):\n",
        "                seen[Z[i][0]] = True\n",
        "    \n",
        "            # move\n",
        "            while not r.move(dx, dy):\n",
        "                # if we'd be leaving the robot world, pick instead a new direction\n",
        "                orientation = random.random() * 2.0 * pi\n",
        "                dx = cos(orientation) * distance\n",
        "                dy = sin(orientation) * distance\n",
        "\n",
        "            # collect/memorize all sensor and motion data\n",
        "            data.append([Z, [dx, dy]])\n",
        "\n",
        "        # we are done when all landmarks were observed; otherwise re-run\n",
        "        complete = (sum(seen) == num_landmarks)\n",
        "\n",
        "    print(' ')\n",
        "    print('Landmarks: ', r.landmarks)\n",
        "    print(r)\n",
        "\n",
        "\n",
        "    return data\n",
        "\n",
        "\n",
        "def check_for_data(num_landmarks, world_size, measurement_range, motion_noise, measurement_noise):\n",
        "    # make robot and landmarks\n",
        "    r = robot(world_size, measurement_range, motion_noise, measurement_noise)\n",
        "    r.make_landmarks(num_landmarks)\n",
        "    \n",
        "    \n",
        "    # check that sense has been implemented/data has been made\n",
        "    test_Z = r.sense()\n",
        "    if(test_Z is None):\n",
        "        raise ValueError\n"
      ],
      "execution_count": 5,
      "outputs": []
    },
    {
      "cell_type": "code",
      "metadata": {
        "colab": {
          "base_uri": "https://localhost:8080/",
          "height": 341
        },
        "id": "KQ4fmYp14jBX",
        "outputId": "29fece44-29e3-40a5-9bc5-c17be57e0e30"
      },
      "source": [
        "# from helpers import display_world\n",
        "\n",
        "# define figure size\n",
        "plt.rcParams[\"figure.figsize\"] = (5,5)\n",
        "\n",
        "# call display_world and display the robot in it's grid world\n",
        "print(r)\n",
        "display_world(int(world_size), [r.x, r.y])\n"
      ],
      "execution_count": 6,
      "outputs": [
        {
          "output_type": "stream",
          "text": [
            "Robot: [x=5.00000 y=5.00000]\n"
          ],
          "name": "stdout"
        },
        {
          "output_type": "display_data",
          "data": {
            "image/png": "[encoded data removed]",
            "text/plain": [
              "<Figure size 360x360 with 1 Axes>"
            ]
          },
          "metadata": {
            "tags": []
          }
        }
      ]
    },
    {
      "cell_type": "code",
      "metadata": {
        "colab": {
          "base_uri": "https://localhost:8080/",
          "height": 341
        },
        "id": "g7y6qjWT6ceg",
        "outputId": "ee0d32f7-f25a-4cd5-a0bc-9bcab1712907"
      },
      "source": [
        "dx = 1\n",
        "dy = 2\n",
        "r.move(dx, dy)\n",
        "\n",
        "# print out the exact location\n",
        "print(r)\n",
        "\n",
        "# display the world after movement, not that this is the same call as before\n",
        "# the robot tracks its own movement\n",
        "display_world(int(world_size), [r.x, r.y])\n"
      ],
      "execution_count": 7,
      "outputs": [
        {
          "output_type": "stream",
          "text": [
            "Robot: [x=6.17024 y=6.97143]\n"
          ],
          "name": "stdout"
        },
        {
          "output_type": "display_data",
          "data": {
            "image/png": "[encoded data removed]",
            "text/plain": [
              "<Figure size 360x360 with 1 Axes>"
            ]
          },
          "metadata": {
            "tags": []
          }
        }
      ]
    },
    {
      "cell_type": "code",
      "metadata": {
        "colab": {
          "base_uri": "https://localhost:8080/",
          "height": 363
        },
        "id": "dluT-NzZ6gqR",
        "outputId": "59ca34b2-cc29-4d61-dd63-4c5c499ec812"
      },
      "source": [
        "num_landmarks = 3\n",
        "r.make_landmarks(num_landmarks)\n",
        "\n",
        "# print out our robot's exact location\n",
        "print(r)\n",
        "\n",
        "# display the world including these landmarks\n",
        "display_world(int(world_size), [r.x, r.y], r.landmarks)\n",
        "\n",
        "# print the locations of the landmarks\n",
        "print('Landmark locations [x,y]: ', r.landmarks)\n"
      ],
      "execution_count": 8,
      "outputs": [
        {
          "output_type": "stream",
          "text": [
            "Robot: [x=6.17024 y=6.97143]\n"
          ],
          "name": "stdout"
        },
        {
          "output_type": "display_data",
          "data": {
            "image/png": "[encoded data removed]",
            "text/plain": [
              "<Figure size 360x360 with 1 Axes>"
            ]
          },
          "metadata": {
            "tags": []
          }
        },
        {
          "output_type": "stream",
          "text": [
            "Landmark locations [x,y]:  [[5, 10], [10, 7], [5, 1]]\n"
          ],
          "name": "stdout"
        }
      ]
    },
    {
      "cell_type": "code",
      "metadata": {
        "colab": {
          "base_uri": "https://localhost:8080/"
        },
        "id": "88TxkHk36k9d",
        "outputId": "228807d4-ffb5-4bd1-8eec-b8bfef280352"
      },
      "source": [
        "measurements = r.sense()\n",
        "\n",
        "# this will print out an empty list if `sense` has not been implemented\n",
        "print(measurements)\n"
      ],
      "execution_count": 9,
      "outputs": [
        {
          "output_type": "stream",
          "text": [
            "[[0, 1.0540731333359044, -3.1447311235764928], [1, -3.7209958695799887, 0.08019987350761429]]\n"
          ],
          "name": "stdout"
        }
      ]
    },
    {
      "cell_type": "code",
      "metadata": {
        "colab": {
          "base_uri": "https://localhost:8080/"
        },
        "id": "tuxi6UrG6pYe",
        "outputId": "6b8b8d28-4b9c-47bc-c49a-d0016c5298f6"
      },
      "source": [
        "data = []\n",
        "\n",
        "# after a robot first senses, then moves (one time step)\n",
        "# that data is appended like so:\n",
        "data.append([measurements, [dx, dy]])\n",
        "\n",
        "# for our example movement and measurement\n",
        "print(data)\n"
      ],
      "execution_count": 10,
      "outputs": [
        {
          "output_type": "stream",
          "text": [
            "[[[[0, 1.0540731333359044, -3.1447311235764928], [1, -3.7209958695799887, 0.08019987350761429]], [1, 2]]]\n"
          ],
          "name": "stdout"
        }
      ]
    },
    {
      "cell_type": "code",
      "metadata": {
        "colab": {
          "base_uri": "https://localhost:8080/"
        },
        "id": "jK-r7yyL6t45",
        "outputId": "ad43197d-79d3-405a-bedb-542da17e4f67"
      },
      "source": [
        "time_step = 0\n",
        "\n",
        "# so you can access robot measurements:\n",
        "print('Measurements: ', data[time_step][0])\n",
        "\n",
        "# and its motion for a given time step:\n",
        "print('Motion: ', data[time_step][1])\n"
      ],
      "execution_count": 11,
      "outputs": [
        {
          "output_type": "stream",
          "text": [
            "Measurements:  [[0, 1.0540731333359044, -3.1447311235764928], [1, -3.7209958695799887, 0.08019987350761429]]\n",
            "Motion:  [1, 2]\n"
          ],
          "name": "stdout"
        }
      ]
    },
    {
      "cell_type": "code",
      "metadata": {
        "id": "5ufvueqG6xhn"
      },
      "source": [
        ""
      ],
      "execution_count": 11,
      "outputs": []
    },
    {
      "cell_type": "code",
      "metadata": {
        "colab": {
          "base_uri": "https://localhost:8080/"
        },
        "id": "KOU3mx3D64Jr",
        "outputId": "a722f3a6-33f5-4013-c6bb-57d254870068"
      },
      "source": [
        "import numpy as np\n",
        "\n",
        "# define omega and xi as in the example\n",
        "omega = np.array([[1,0,0],\n",
        "                  [-1,1,0],\n",
        "                  [0,-1,1]])\n",
        "\n",
        "xi = np.array([[-3],\n",
        "               [5],\n",
        "               [3]])\n",
        "\n",
        "# calculate the inverse of omega\n",
        "omega_inv = np.linalg.inv(np.matrix(omega))\n",
        "\n",
        "# calculate the solution, mu\n",
        "mu = omega_inv*xi\n",
        "\n",
        "# print out the values of mu (x0, x1, x2)\n",
        "print(mu)\n"
      ],
      "execution_count": 12,
      "outputs": [
        {
          "output_type": "stream",
          "text": [
            "[[-3.]\n",
            " [ 2.]\n",
            " [ 5.]]\n"
          ],
          "name": "stdout"
        }
      ]
    },
    {
      "cell_type": "code",
      "metadata": {
        "colab": {
          "base_uri": "https://localhost:8080/"
        },
        "id": "n8eSpB4y68Fx",
        "outputId": "9236c41d-d31c-4ced-a32e-60525217aa9b"
      },
      "source": [
        "import numpy as np\n",
        "# from helpers import make_data\n",
        "\n",
        "# your implementation of slam should work with the following inputs\n",
        "# feel free to change these input values and see how it responds!\n",
        "\n",
        "# world parameters\n",
        "num_landmarks      = 5        # number of landmarks\n",
        "N                  = 20       # time steps\n",
        "world_size         = 100.0    # size of world (square)\n",
        "\n",
        "# robot parameters\n",
        "measurement_range  = 50.0     # range at which we can sense landmarks\n",
        "motion_noise       = 2.0      # noise in robot motion\n",
        "measurement_noise  = 2.0      # noise in the measurements\n",
        "distance           = 20.0     # distance by which robot (intends to) move each iteratation \n",
        "\n",
        "\n",
        "# make_data instantiates a robot, AND generates random landmarks for a given world size and number of landmarks\n",
        "data = make_data(N, num_landmarks, world_size, measurement_range, motion_noise, measurement_noise, distance)\n"
      ],
      "execution_count": 13,
      "outputs": [
        {
          "output_type": "stream",
          "text": [
            " \n",
            "Landmarks:  [[92, 1], [54, 70], [46, 21], [31, 84], [79, 33]]\n",
            "Robot: [x=21.87740 y=32.22002]\n"
          ],
          "name": "stdout"
        }
      ]
    },
    {
      "cell_type": "code",
      "metadata": {
        "colab": {
          "base_uri": "https://localhost:8080/"
        },
        "id": "APAAtY-j7Ohn",
        "outputId": "0cb2cded-f9b8-481c-aeea-bce70e585191"
      },
      "source": [
        "time_step = 0\n",
        "\n",
        "print('Example measurements: \\n', data[time_step][0])\n",
        "print('\\n')\n",
        "print('Example motion: \\n', data[time_step][1])\n"
      ],
      "execution_count": 14,
      "outputs": [
        {
          "output_type": "stream",
          "text": [
            "Example measurements: \n",
            " [[0, -41.909683443445374, 49.090316556554626], [1, -5.6998238625899145, -21.699823862589916], [2, 5.361413895364775, 30.361413895364777], [3, 20.422849095972914, -32.577150904027086], [4, -27.96436172413456, 18.03563827586544]]\n",
            "\n",
            "\n",
            "Example motion: \n",
            " [-19.508396942459786, -4.407090733740987]\n"
          ],
          "name": "stdout"
        }
      ]
    },
    {
      "cell_type": "code",
      "metadata": {
        "id": "WHaM-LU07SdT"
      },
      "source": [
        "def initialize_constraints(N, num_landmarks, world_size):\n",
        "    ''' This function takes in a number of time steps N, number of landmarks, and a world_size,\n",
        "        and returns initialized constraint matrices, omega and xi.'''\n",
        "    \n",
        "    middle_of_the_world = world_size / 2\n",
        "    \n",
        "    ## Recommended: Define and store the size (rows/cols) of the constraint matrix in a variable\n",
        "    rows, cols = 2*(N + num_landmarks), 2*(N + num_landmarks)\n",
        "    ## TODO: Define the constraint matrix, Omega, with two initial \"strength\" values\n",
        "    omega = np.zeros(shape = (rows, cols))\n",
        "    ## for the initial x, y location of our robot\n",
        "    #omega = [0]\n",
        "    \n",
        "    omega[0][0], omega[1][1] = 1,1\n",
        "    \n",
        "    ## TODO: Define the constraint *vector*, xi\n",
        "    ## you can assume that the robot starts out in the middle of the world with 100% confidence\n",
        "    #xi = [0]\n",
        "    xi = np.zeros(shape = (rows, 1))\n",
        "    xi[0][0] = middle_of_the_world\n",
        "    xi[1][0] = middle_of_the_world\n",
        "    \n",
        "    return omega, xi\n"
      ],
      "execution_count": 15,
      "outputs": []
    },
    {
      "cell_type": "code",
      "metadata": {
        "id": "JcblsdVb7YWn"
      },
      "source": [
        "N_test = 5\n",
        "num_landmarks_test = 2\n",
        "small_world = 10\n",
        "\n",
        "# initialize the constraints\n",
        "initial_omega, initial_xi = initialize_constraints(N_test, num_landmarks_test, small_world)\n"
      ],
      "execution_count": 16,
      "outputs": []
    },
    {
      "cell_type": "code",
      "metadata": {
        "colab": {
          "base_uri": "https://localhost:8080/",
          "height": 449
        },
        "id": "EUdXR2Y77dVM",
        "outputId": "ffdd43fd-2c1c-4947-a6d5-a9b9ca6b35ad"
      },
      "source": [
        "import matplotlib.pyplot as plt\n",
        "from pandas import DataFrame\n",
        "import seaborn as sns\n",
        "%matplotlib inline\n",
        "\n",
        "plt.rcParams[\"figure.figsize\"] = (10,7)\n",
        "\n",
        "# display omega\n",
        "sns.heatmap(DataFrame(initial_omega), cmap='Blues', annot=True, linewidths=.5)\n"
      ],
      "execution_count": 18,
      "outputs": [
        {
          "output_type": "execute_result",
          "data": {
            "text/plain": [
              "<matplotlib.axes._subplots.AxesSubplot at 0x7f9dd7f02450>"
            ]
          },
          "metadata": {
            "tags": []
          },
          "execution_count": 18
        },
        {
          "output_type": "display_data",
          "data": {
            "image/png": "[encoded data removed]",
            "text/plain": [
              "<Figure size 720x504 with 2 Axes>"
            ]
          },
          "metadata": {
            "tags": [],
            "needs_background": "light"
          }
        }
      ]
    },
    {
      "cell_type": "code",
      "metadata": {
        "colab": {
          "base_uri": "https://localhost:8080/",
          "height": 445
        },
        "id": "m6JrYTQ_7hRi",
        "outputId": "858d6b85-271a-4a78-9154-cf77fc902d88"
      },
      "source": [
        "plt.rcParams[\"figure.figsize\"] = (1,7)\n",
        "\n",
        "# display xi\n",
        "sns.heatmap(DataFrame(initial_xi), cmap='Oranges', annot=True, linewidths=.5)\n"
      ],
      "execution_count": 19,
      "outputs": [
        {
          "output_type": "execute_result",
          "data": {
            "text/plain": [
              "<matplotlib.axes._subplots.AxesSubplot at 0x7f9de33b0d50>"
            ]
          },
          "metadata": {
            "tags": []
          },
          "execution_count": 19
        },
        {
          "output_type": "display_data",
          "data": {
            "image/png": "[encoded data removed]",
            "text/plain": [
              "<Figure size 72x504 with 2 Axes>"
            ]
          },
          "metadata": {
            "tags": [],
            "needs_background": "light"
          }
        }
      ]
    },
    {
      "cell_type": "code",
      "metadata": {
        "id": "S5x9F62P7rUg"
      },
      "source": [
        "def slam(data, N, num_landmarks, world_size, motion_noise, measurement_noise):\n",
        "    \n",
        "    ## TODO: Use your initilization to create constraint matrices, omega and xi\n",
        "    omega, xi = initialize_constraints(N, num_landmarks, world_size)\n",
        "    ## TODO: Iterate through each time step in the data\n",
        "    for time_step in range(len(data)):\n",
        "        \n",
        "        ## get all the motion and measurement data as you iterate through each time step\n",
        "        measurement = data[time_step][0]\n",
        "        motion = data[time_step][1]\n",
        "        \n",
        "        dx = motion[0]         # distance to be moved along x in this time_step\n",
        "        dy = motion[1]         # distance to be moved along y in this time_step\n",
        "        \n",
        "        #Consider the robot moves from (x0,y0) to (x1,y1) in this time_step\n",
        "        \n",
        "        #even numbered columns of omega correspond to x values\n",
        "        x0 = (time_step * 2)   #x0 = 0,2,4,...\n",
        "        x1 = x0 + 2            #x1 = 2,4,6,...\n",
        "        \n",
        "        #odd numbered columns of omega correspond to y values\n",
        "        y0 = x0 + 1            #y0 = 1,3,5,...\n",
        "        y1 = y0 + 2            #y1 = 3,5,7,...\n",
        "        \n",
        "        actual_m_noise = 1.0/measurement_noise\n",
        "        actual_n_noise = 1.0/motion_noise\n",
        "    ## TODO: update the constraint matrix/vector(omega/xi) to account for all *measurements*\n",
        "    ## this should be a series of additions that take into account the measurement noise\n",
        "        for landmark in measurement:\n",
        "            lM = landmark[0]            # landmark id\n",
        "            dx_lM = landmark[1]         # separation along x from current position\n",
        "            dy_lM = landmark[2]         # separation along y from current position\n",
        "            \n",
        "            L_x0 = (N*2) + (lM*2)       # even-numbered columns have x values of landmarks\n",
        "            L_y0 = L_x0 + 1             # odd-numbered columns have y values of landmarks\n",
        "\n",
        "            # update omega values corresponding to measurement between x0 and Lx0\n",
        "            omega[x0][x0] += actual_m_noise\n",
        "            omega[L_x0][L_x0] += actual_m_noise\n",
        "            omega[x0][L_x0] += -actual_m_noise\n",
        "            omega[L_x0][x0] += -actual_m_noise\n",
        "            \n",
        "            # update omega values corresponding to measurement between y0 and Ly0\n",
        "            omega[y0][y0] += actual_m_noise\n",
        "            omega[L_y0][L_y0] += actual_m_noise\n",
        "            omega[y0][L_y0] += -actual_m_noise\n",
        "            omega[L_y0][y0] += -actual_m_noise\n",
        "            \n",
        "            # update xi values corresponding to measurement between x0 and Lx0\n",
        "            xi[x0]  -= dx_lM/measurement_noise\n",
        "            xi[L_x0]  += dx_lM/measurement_noise\n",
        "            \n",
        "            # update xi values corresponding to measurement between y0 and Ly0\n",
        "            xi[y0]  -= dy_lM/measurement_noise\n",
        "            xi[L_y0] += dy_lM/measurement_noise\n",
        "            \n",
        "            \n",
        "        ## TODO: update the constraint matrix/vector(omega/xi) to account for all *motion* from from (x0,y0) to (x1,y1) and motion noise\n",
        "        omega[x0][x0] += actual_n_noise\n",
        "        omega[x1][x1] += actual_n_noise\n",
        "        omega[x0][x1] += -actual_n_noise\n",
        "        omega[x1][x0] += -actual_n_noise\n",
        "        \n",
        "        omega[y0][y0] += actual_n_noise\n",
        "        omega[y1][y1] += actual_n_noise\n",
        "        omega[y0][y1] += -actual_n_noise\n",
        "        omega[y1][y0] += -actual_n_noise\n",
        "        \n",
        "        xi[x0] -= dx/motion_noise\n",
        "        xi[y0] -= dy/motion_noise\n",
        "        \n",
        "        xi[x1] += dx/motion_noise\n",
        "        xi[y1] += dy/motion_noise\n",
        "    \n",
        "    ## TODO: After iterating through all the data\n",
        "    ## Compute the best estimate of poses and landmark positions\n",
        "    ## using the formula, omega_inverse * Xi\n",
        "    inverse_of_omega = np.linalg.inv(np.matrix(omega))\n",
        "    mu = inverse_of_omega * xi\n",
        "    \n",
        "    return mu # return `mu`\n"
      ],
      "execution_count": 20,
      "outputs": []
    },
    {
      "cell_type": "code",
      "metadata": {
        "id": "qKLy4HYJ7z7D"
      },
      "source": [
        "def get_poses_landmarks(mu, N):\n",
        "    # create a list of poses\n",
        "    poses = []\n",
        "    for i in range(N):\n",
        "        poses.append((mu[2*i].item(), mu[2*i+1].item()))\n",
        "\n",
        "    # create a list of landmarks\n",
        "    landmarks = []\n",
        "    for i in range(num_landmarks):\n",
        "        landmarks.append((mu[2*(N+i)].item(), mu[2*(N+i)+1].item()))\n",
        "\n",
        "    # return completed lists\n",
        "    return poses, landmarks\n"
      ],
      "execution_count": 21,
      "outputs": []
    },
    {
      "cell_type": "code",
      "metadata": {
        "id": "bL4utZ9W74rE"
      },
      "source": [
        "def print_all(poses, landmarks):\n",
        "    print('\\n')\n",
        "    print('Estimated Poses:')\n",
        "    for i in range(len(poses)):\n",
        "        print('['+', '.join('%.3f'%p for p in poses[i])+']')\n",
        "    print('\\n')\n",
        "    print('Estimated Landmarks:')\n",
        "    for i in range(len(landmarks)):\n",
        "        print('['+', '.join('%.3f'%l for l in landmarks[i])+']')\n"
      ],
      "execution_count": 22,
      "outputs": []
    },
    {
      "cell_type": "code",
      "metadata": {
        "colab": {
          "base_uri": "https://localhost:8080/"
        },
        "id": "18Zkpz_Q77uo",
        "outputId": "6230b60d-84d3-4278-cd52-cca6f7489149"
      },
      "source": [
        "mu = slam(data, N, num_landmarks, world_size, motion_noise, measurement_noise)\n",
        "\n",
        "# print out the resulting landmarks and poses\n",
        "if(mu is not None):\n",
        "    # get the lists of poses and landmarks\n",
        "    # and print them out\n",
        "    poses, landmarks = get_poses_landmarks(mu, N)\n",
        "    print_all(poses, landmarks)\n"
      ],
      "execution_count": 23,
      "outputs": [
        {
          "output_type": "stream",
          "text": [
            "\n",
            "\n",
            "Estimated Poses:\n",
            "[50.000, 50.000]\n",
            "[60.940, 55.572]\n",
            "[71.224, 64.479]\n",
            "[73.937, 72.432]\n",
            "[66.957, 75.801]\n",
            "[63.347, 84.475]\n",
            "[51.520, 85.922]\n",
            "[35.704, 83.314]\n",
            "[19.687, 81.466]\n",
            "[8.087, 83.218]\n",
            "[8.227, 79.418]\n",
            "[11.098, 76.942]\n",
            "[20.676, 63.892]\n",
            "[32.293, 49.818]\n",
            "[42.912, 35.272]\n",
            "[56.043, 31.429]\n",
            "[66.213, 35.013]\n",
            "[73.874, 44.214]\n",
            "[75.250, 44.021]\n",
            "[95.217, 42.860]\n",
            "\n",
            "\n",
            "Estimated Landmarks:\n",
            "[7.266, 94.953]\n",
            "[38.466, 31.145]\n",
            "[44.745, 74.294]\n",
            "[61.388, 17.905]\n",
            "[17.897, 64.934]\n"
          ],
          "name": "stdout"
        }
      ]
    },
    {
      "cell_type": "code",
      "metadata": {
        "id": "n0HM6rg47_iz",
        "outputId": "29586a87-f726-45f3-cb92-88e4f359f3c4",
        "colab": {
          "base_uri": "https://localhost:8080/",
          "height": 640
        }
      },
      "source": [
        "# from helpers import display_world\n",
        "\n",
        "# Display the final world!\n",
        "\n",
        "# define figure size\n",
        "plt.rcParams[\"figure.figsize\"] = (20,20)\n",
        "\n",
        "# check if poses has been created\n",
        "if 'poses' in locals():\n",
        "    # print out the last pose\n",
        "    print('Last pose: ', poses[-1])\n",
        "    # display the last position of the robot *and* the landmark positions\n",
        "    display_world(int(world_size), poses[-1], landmarks)\n"
      ],
      "execution_count": 24,
      "outputs": [
        {
          "output_type": "stream",
          "text": [
            "Last pose:  (95.21665186494168, 42.85970314086557)\n"
          ],
          "name": "stdout"
        },
        {
          "output_type": "display_data",
          "data": {
            "image/png": "[encoded data removed]",
            "text/plain": [
              "<Figure size 1440x1440 with 1 Axes>"
            ]
          },
          "metadata": {
            "tags": []
          }
        }
      ]
    },
    {
      "cell_type": "code",
      "metadata": {
        "id": "WuSEdCCr8FN1"
      },
      "source": [
        ""
      ],
      "execution_count": null,
      "outputs": []
    }
  ]
}